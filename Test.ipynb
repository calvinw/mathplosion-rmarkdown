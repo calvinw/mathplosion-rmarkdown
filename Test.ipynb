{
 "cells": [
  {
   "cell_type": "markdown",
   "metadata": {},
   "source": [
    "This is some inline math: $z=\\frac{2}{3}$\n",
    "\n",
    "Here is split: $$\\begin{split}\n",
    "A & = \\frac{\\pi r^2}{2} \\\\\n",
    " & = \\frac{1}{2} \\pi r^2\n",
    "\\end{split}$$\n",
    "\n",
    "$$\\begin{array}{ccc}\n",
    "x_{11} & x_{12} & x_{13}\\\\\n",
    "x_{21} & x_{22} & x_{23}\n",
    "\\end{array}$$\n",
    "\n",
    "$$X = \\begin{bmatrix}\n",
    "1 & x_{1}\\\\\n",
    "1 & x_{2}\\\\\n",
    "1 & x_{3}\n",
    "\\end{bmatrix}$$\n",
    "\n",
    "$$\\Theta = \\begin{pmatrix}\n",
    "\\alpha & \\beta\\\\\n",
    "\\gamma & \\delta\n",
    "\\end{pmatrix}$$\n",
    "\n",
    "$$\\begin{vmatrix}\n",
    "a & b\\\\\n",
    "c & d\n",
    "\\end{vmatrix}\n",
    "=ad-bc$$"
   ]
  }
 ],
 "nbformat": 4,
 "nbformat_minor": 5,
 "metadata": {
  "kernelspec": {
   "name": "ir",
   "display_name": "R",
   "language": "R"
  }
 }
}

