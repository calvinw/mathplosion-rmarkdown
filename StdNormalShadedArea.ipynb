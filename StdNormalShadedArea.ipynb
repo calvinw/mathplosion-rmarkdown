{
 "cells": [
  {
   "cell_type": "code",
   "execution_count": null,
   "metadata": {},
   "outputs": [],
   "source": [
    "library(ggplot2)\n",
    "a <- params$a\n",
    "b <- params$b\n",
    "\n",
    "drawGraph<- function() {\n",
    "dat <- data.frame(x=c(-3.5, 3.5))\n",
    "ggplot(dat, aes(x=x)) +\n",
    "  stat_function(fun=dnorm) +\n",
    "  stat_function(fun=dnorm, xlim = c(a,b), geom=\"area\", fill=\"green\", alpha=0.3) +\n",
    "  labs(x = \"z\", y = \"\") +\n",
    "  geom_hline(yintercept=0) +\n",
    "  scale_x_continuous(breaks = seq(-3, 3, by = 1.0)) +\n",
    "#  scale_y_continuous(breaks = seq(0, .4, by = 0.2)) +\n",
    "  scale_y_continuous(breaks = NULL) +\n",
    "  annotate(\"text\", x = b, y = -0.02, label = sprintf(\"z=%s\", b)) +\n",
    "  annotate(\"text\", x = a, y = -0.02, label = sprintf(\"z=%s\", a))\n",
    "#  annotate(\"text\", x = 0, y = -0.01, label = \" \")\n",
    "}\n"
   ]
  },
  {
   "cell_type": "markdown",
   "metadata": {},
   "source": [
    "Area Under Standard Normal Curve\n",
    "--------------------------------\n",
    "\n",
    "First we find the left tail area up the right endpoint using the table:"
   ]
  },
  {
   "cell_type": "code",
   "execution_count": null,
   "metadata": {},
   "outputs": [],
   "source": [
    "dat <- data.frame(x=c(-3.5, 3.5))\n",
    "ggplot(dat, aes(x=x)) +\n",
    "  stat_function(fun=dnorm) +\n",
    "  stat_function(fun=dnorm, xlim = c(a,b), geom=\"area\", fill=\"green\", alpha=0.3) +\n",
    "  labs(x = \"z\", y = \"\") +\n",
    "  geom_hline(yintercept=0) +\n",
    "  scale_x_continuous(breaks = seq(-3, 3, by = 1.0)) +\n",
    "#  scale_y_continuous(breaks = seq(0, .4, by = 0.2)) +\n",
    "  scale_y_continuous(breaks = NULL) +\n",
    "  annotate(\"text\", x = b, y = -0.02, label = sprintf(\"z=%s\", b)) +\n",
    "  annotate(\"text\", x = a, y = -0.02, label = sprintf(\"z=%s\", a))\n",
    "#  annotate(\"text\", x = 0, y = -0.01, label = \" \")"
   ]
  },
  {
   "cell_type": "markdown",
   "metadata": {},
   "source": [
    "left tail area = d\n",
    "\n",
    "Then we find the area up to the left endpoint:"
   ]
  }
 ],
 "nbformat": 4,
 "nbformat_minor": 5,
 "metadata": {}
}

