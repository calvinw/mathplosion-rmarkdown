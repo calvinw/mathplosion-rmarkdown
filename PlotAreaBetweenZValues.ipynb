{
 "cells": [
  {
   "cell_type": "code",
   "execution_count": null,
   "metadata": {},
   "outputs": [],
   "source": [
    "library(ggplot2)\n",
    "dnorm_limit <- function(x) {\n",
    " y <- dnorm(x)\n",
    " y[x < params$a | x > params$b] <- NA\n",
    " return(y)\n",
    "}"
   ]
  },
  {
   "cell_type": "markdown",
   "metadata": {},
   "source": [
    "Here is the picture of the area between that we want:"
   ]
  },
  {
   "cell_type": "code",
   "execution_count": null,
   "metadata": {},
   "outputs": [],
   "source": [
    "#change dev to svg if need to\n",
    "dat <- data.frame(x=c(-3.5, 3.5))\n",
    "\n",
    "ggplot(dat, aes(x=x)) +\n",
    "stat_function(fun=dnorm_limit, geom=\"area\", fill=\"blue\", alpha=0.5) +\n",
    "stat_function(fun=dnorm) +\n",
    "labs(x = \"z\", y = \"\") +\n",
    "#geom_hline(yintercept=0) +\n",
    "scale_x_continuous(breaks = seq(-3, 3, by = 1.0)) +\n",
    "# scale_y_continuous(breaks = seq(0, .4, by = 0.2)) +\n",
    "annotate(\"text\", x = params$b, y = -0.01, label = params$b) +\n",
    "annotate(\"text\", x = params$a, y = -0.01, label = params$a)"
   ]
  }
 ],
 "nbformat": 4,
 "nbformat_minor": 5,
 "metadata": {
  "kernelspec": {
   "name": "ir",
   "display_name": "R",
   "language": "R"
  }
 }
}

