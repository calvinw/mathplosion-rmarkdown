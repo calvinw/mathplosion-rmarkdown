{
 "cells": [
  {
   "cell_type": "code",
   "execution_count": null,
   "metadata": {},
   "outputs": [],
   "source": [
    "knitr::opts_chunk$set(echo = TRUE)\n",
    "library(ggplot2)\n",
    "dnorm_limit <- function(x) {\n",
    " y <- dnorm(x)\n",
    " y[x < -1.2 | x > 1.53] <- NA\n",
    " return(y)\n",
    "}"
   ]
  },
  {
   "cell_type": "markdown",
   "metadata": {},
   "source": [
    "Simple with markdown and code\n",
    "=============================\n",
    "\n",
    "You can also embed plots, for example here are some:"
   ]
  },
  {
   "cell_type": "code",
   "execution_count": null,
   "metadata": {},
   "outputs": [],
   "source": [
    "#change dev to svg if need to\n",
    "dat <- data.frame(x=c(-3.5, 3.5))\n",
    "ggplot(dat, aes(x=x)) +\n",
    "stat_function(fun=dnorm_limit, geom=\"area\", fill=\"blue\", alpha=0.5) +\n",
    "stat_function(fun=dnorm) +\n",
    "labs(x = \"z\", y = \"\") +\n",
    "geom_hline(yintercept=0) +\n",
    "scale_x_continuous(breaks = seq(-3, 3, by = 1.0)) +\n",
    "scale_y_continuous(breaks = seq(0, .4, by = 0.2)) +\n",
    "annotate(\"text\", x = 1.5, y = -0.01, label = \"z=1.53\") +\n",
    "annotate(\"text\", x = -1.2, y = -0.01, label = \"z=-1.2\")"
   ]
  }
 ],
 "nbformat": 4,
 "nbformat_minor": 5,
 "metadata": {}
}

