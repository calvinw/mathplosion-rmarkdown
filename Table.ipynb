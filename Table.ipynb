{
 "cells": [
  {
   "cell_type": "markdown",
   "metadata": {},
   "source": [
    "Here is te table…"
   ]
  },
  {
   "cell_type": "code",
   "execution_count": null,
   "metadata": {},
   "outputs": [],
   "source": [
    "# in this code block we just set x,mu,sigma so we can use them below.\n",
    "z<-params$z; "
   ]
  },
  {
   "cell_type": "code",
   "execution_count": null,
   "metadata": {},
   "outputs": [],
   "source": [
    "library(knitr)\n",
    "\n",
    "colTitles <- c(\" .00\",\" .01\",\" .02\",\" .03\",\" .04\",\" .05\",\" .06\",\" .07\",\" .08\",\" .09\")\n",
    "zStartOfLastRow <- 3.4\n",
    "numRows <- zStartOfLastRow*10+1\n",
    "\n",
    "# Pos z-table rows go like this:  0.0, 0.1,... , 2.9, 3.0\n",
    "# Matrix of positive z-values\n",
    "posZValues <- matrix(nrow=numRows, ncol=10)\n",
    "\n",
    "for(i in 1:numRows) {\n",
    "  for(j in 1:10) {\n",
    "    posZValues[i, j] = (i-1)*.1 + (j-1)*(.01)\n",
    "  }\n",
    "}\n",
    "\n",
    "# left tail areas like '0.9324' \n",
    "posZAreas <- format(round(pnorm(posZValues),4),nsmall=4)\n",
    "\n",
    "# Has format '0.3742', so this lops off the '0' at start.\n",
    "posZAreas <- substring(posZAreas, 2)\n",
    "\n",
    "# eg this is .1, .2, .3, ..., 3.0 \n",
    "posRowNames <- seq(.1, zStartOfLastRow, by=.1)\n",
    "rownames(posZAreas) <- c(\"0.0\",posRowNames)\n",
    "colnames(posZAreas) <- colTitles\n",
    "\n",
    "# Neg z-table rows go like this: -3.0,-2.9,... ,-0.1, 0.0 \n",
    "# Matrix of negative z-values\n",
    "negZValues <- matrix(nrow=numRows, ncol=10)\n",
    "for(i in 1:numRows) {\n",
    "  for(j in 1:10) {\n",
    "    negZValues[i, j] = (numRows-i)*(-.1) - (j-1)*(.01)\n",
    "  }\n",
    "}\n",
    "\n",
    "negZAreas <- format(round(pnorm(negZValues),4),nsmall=4)\n",
    "negZAreas <- substring(negZAreas, 2)\n",
    "\n",
    "# eg this is -3.0, -2.9, ... , -.1\n",
    "negRowNames <- seq(-zStartOfLastRow,-.1,by=.1)\n",
    "rownames(negZAreas) <- c(negRowNames, \"0.0\")\n",
    "colnames(negZAreas) <- colTitles"
   ]
  },
  {
   "cell_type": "markdown",
   "metadata": {},
   "source": [
    "Standard Normal Table\n",
    "---------------------\n",
    "\n",
    "First find the negative z-values:"
   ]
  },
  {
   "cell_type": "code",
   "execution_count": null,
   "metadata": {},
   "outputs": [],
   "source": [
    "kable(negZAreas)"
   ]
  },
  {
   "cell_type": "markdown",
   "metadata": {},
   "source": [
    "This is second half of the table:"
   ]
  },
  {
   "cell_type": "code",
   "execution_count": null,
   "metadata": {},
   "outputs": [],
   "source": [
    "kable(posZAreas)"
   ]
  }
 ],
 "nbformat": 4,
 "nbformat_minor": 5,
 "metadata": {
  "kernelspec": {
   "name": "ir",
   "display_name": "R",
   "language": "R"
  }
 }
}

