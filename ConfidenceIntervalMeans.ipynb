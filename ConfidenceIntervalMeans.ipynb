{
 "cells": [
  {
   "cell_type": "code",
   "execution_count": null,
   "metadata": {},
   "outputs": [],
   "source": [
    "if(!exists(\"params\")) {\n",
    "    params <- list(xbar = 12.3, sigma=4, n=50, confidence=0.95)\n",
    "}\n",
    "xbar<-params$xbar \n",
    "sigma<-params$sigma \n",
    "n<-params$n\n",
    "confidence<-params$confidence"
   ]
  },
  {
   "cell_type": "code",
   "execution_count": null,
   "metadata": {},
   "outputs": [],
   "source": [
    "zstar <- -1*qnorm((1.0-confidence)/2.0) \n",
    "sqrtOfN <- sqrt(n)\n",
    "E <- zstar * (sigma)/sqrtOfN\n",
    "xbarMinusE <- xbar - E\n",
    "xbarPlusE <- xbar + E"
   ]
  },
  {
   "cell_type": "markdown",
   "metadata": {},
   "source": [
    "Find a `r confidence*100`% confidence interval when the sample mean is\n",
    "$\\bar x=`r xbar`$, the standard deviation is $\\sigma=`r sigma`$ and the\n",
    "sample size is $n = `r n`$.\n",
    "\n",
    "First we find the E involved, using the confidence level to compute the\n",
    "appropriate critical z-value:\n",
    "\n",
    "$$\\begin{aligned}\n",
    "E & = (z^\\star)\\frac{\\sigma}{\\sqrt{n}} && \\text{(the formula)}\\\\\n",
    "  & = (`r round(zstar,3)`)(\\frac{`r sigma`}{\\sqrt{`r n`}}) && \\text{(plug in values)}\\\\\n",
    "  & = (`r round(zstar,3)`)(\\frac{`r sigma`}{`r round(sqrtOfN,3)`}) && \\\\\n",
    "  & = (`r round(zstar,3)`)(`r round(sigma/sqrtOfN,3)`) && \\\\\n",
    "  & = `r round(E,3)` && \n",
    "\\end{aligned}$$\n",
    "\n",
    "Then we find the two endpoints:\n",
    "\n",
    "$$\\begin{aligned}\n",
    "\\bar x - E = `r xbar`-`r round(E,3)` = `r round(xbar-E,3)` \\\\\n",
    "\\bar x + E = `r xbar`+`r round(E,3)` = `r round(xbar+E,3)`\n",
    "\\end{aligned}$$\n",
    "\n",
    "So the confidence interval is\n",
    "$(`r round(xbarMinusE,3)`,`r round(xbarPlusE,3)`)$"
   ]
  }
 ],
 "nbformat": 4,
 "nbformat_minor": 5,
 "metadata": {
  "kernelspec": {
   "name": "ir",
   "display_name": "R",
   "language": "R"
  }
 }
}

