{
 "cells": [
  {
   "cell_type": "code",
   "execution_count": null,
   "metadata": {},
   "outputs": [],
   "source": [
    "options(repr.plot.width=4, repr.plot.height=4)"
   ]
  },
  {
   "cell_type": "code",
   "execution_count": null,
   "metadata": {},
   "outputs": [],
   "source": [
    "if(!exists(\"params\")) {\n",
    "    params<-list(x=22.2,mu=23,sigma=4)\n",
    "}\n",
    "x<-params$x\n",
    "mu<-params$mu \n",
    "sigma<-params$sigma "
   ]
  },
  {
   "cell_type": "code",
   "execution_count": null,
   "metadata": {},
   "outputs": [],
   "source": [
    "numer<-(x-mu); \n",
    "z<-round((x-mu)/sigma,2)"
   ]
  },
  {
   "cell_type": "markdown",
   "metadata": {},
   "source": [
    "Suppose that $\\mu=`r mu`$, $\\sigma=`r sigma`$ and $x = `r x`$. Then we\n",
    "can find the value of z as follows:\n",
    "\n",
    "$$\n",
    "z =\\frac{x-\\mu}{\\sigma} =\\frac{`r x`-`r mu`}{`r sigma`} =\\frac{`r numer`}{`r sigma`} =`r z`\n",
    "$$"
   ]
  },
  {
   "cell_type": "code",
   "execution_count": null,
   "metadata": {},
   "outputs": [],
   "source": [
    "Z <- seq(-4, 4, length=200)\n",
    "Y <- dnorm(Z, mean=0, sd=1)\n",
    "plot(Z,Y, type = \"l\", lwd = 2, xlab=\"z\", ylab = \"\", xlim = c(-3.5,3.5))"
   ]
  }
 ],
 "nbformat": 4,
 "nbformat_minor": 5,
 "metadata": {
  "kernelspec": {
   "name": "ir",
   "display_name": "R",
   "language": "R"
  }
 }
}

