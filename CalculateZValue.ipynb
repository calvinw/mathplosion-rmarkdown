{
 "cells": [
  {
   "cell_type": "code",
   "execution_count": null,
   "metadata": {},
   "outputs": [],
   "source": [
    "# output:\n",
    "#   html_document:\n",
    "#       pandoc_args: [\"--webtex=http://chart.googleapis.com/chart?cht=tx&chl=\"]\n",
    "#       mathjax: null\n",
    "knitr::opts_chunk$set(include=FALSE)"
   ]
  },
  {
   "cell_type": "code",
   "execution_count": null,
   "metadata": {},
   "outputs": [],
   "source": [
    "# This is here for jupyter versions\n",
    "if(!exists(\"params\")) {\n",
    "    params<-list(x=22.2,mu=23,sigma=4)\n",
    "}\n",
    "x<-params$x\n",
    "mu<-params$mu \n",
    "sigma<-params$sigma "
   ]
  },
  {
   "cell_type": "code",
   "execution_count": null,
   "metadata": {},
   "outputs": [],
   "source": [
    "numer<-(x-mu); \n",
    "z<-round((x-mu)/sigma,2)\n",
    "numer\n",
    "z"
   ]
  },
  {
   "cell_type": "markdown",
   "metadata": {},
   "source": [
    "Suppose that $\\mu=`r mu`$, $\\sigma=`r sigma`$ and $x = `r x`$. Then we\n",
    "can find the value of z as follows:\n",
    "\n",
    "$$\n",
    "z =\\frac{x-\\mu}{\\sigma} =\\frac{`r x`-`r mu`}{`r sigma`} =\\frac{`r numer`}{`r sigma`} =`r z`\n",
    "$$"
   ]
  }
 ],
 "nbformat": 4,
 "nbformat_minor": 5,
 "metadata": {
  "kernelspec": {
   "name": "ir",
   "display_name": "R",
   "language": "R"
  }
 }
}

