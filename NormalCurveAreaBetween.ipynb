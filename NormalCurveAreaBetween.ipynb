{
 "cells": [
  {
   "cell_type": "code",
   "execution_count": null,
   "metadata": {},
   "outputs": [],
   "source": [
    "options(repr.plot.width=4, repr.plot.height=4)"
   ]
  },
  {
   "cell_type": "code",
   "execution_count": null,
   "metadata": {},
   "outputs": [],
   "source": [
    "if(!exists(\"params\")) {\n",
    "    params<-list(a=1.23,b=1.75,mu=0,sigma=1.0)\n",
    "}\n",
    "a<-params$a \n",
    "b<-params$b \n",
    "mu<-params$mu \n",
    "sigma<-params$sigma "
   ]
  },
  {
   "cell_type": "code",
   "execution_count": null,
   "metadata": {},
   "outputs": [],
   "source": [
    "library(ggplot2)\n",
    "dnorm_limit <- function(x) {\n",
    " y <- dnorm(x)\n",
    " y[x < -1.2 | x > 2.1] <- NA\n",
    " return(y)\n",
    "}"
   ]
  },
  {
   "cell_type": "markdown",
   "metadata": {},
   "source": [
    "We are going to find the area between the two x-values by using the\n",
    "standard normal (z) table:\n",
    "\n",
    "For the left endpoint (x=a) the z-value is:\n",
    "\n",
    "$$\n",
    "`r {\n",
    "    x<-params$a; \n",
    "    mu<-params$mu; \n",
    "    numer<-(x-mu); \n",
    "    sigma<-params$sigma; \n",
    "    z<-(x-mu)/sigma\n",
    "    sprintf(\"z=\\\\frac{x-\\\\mu}{\\\\sigma}=\\\\frac{%s-%s}{%s}=\\\\frac{%s}{%s}=%s\",\n",
    "                                                x,mu,sigma,numer,sigma,z)\n",
    "   }`\n",
    "$$\n",
    "\n",
    "For the right endpoint (x=b) the z-value is:\n",
    "\n",
    "$$\n",
    "`r {\n",
    "    x<-params$b; \n",
    "    mu<-params$mu; \n",
    "    numer<-(x-mu); \n",
    "    sigma<-params$sigma; \n",
    "    z<-(x-mu)/sigma\n",
    "    sprintf(\"z=\\\\frac{x-\\\\mu}{\\\\sigma}=\\\\frac{%s-%s}{%s}=\\\\frac{%s}{%s}=%s\",\n",
    "                                                x,mu,sigma,numer,sigma,z)\n",
    "   }`\n",
    "$$\n",
    "\n",
    "Here is a picture of the area that we want."
   ]
  },
  {
   "cell_type": "code",
   "execution_count": null,
   "metadata": {},
   "outputs": [],
   "source": [
    "#change dev to svg if need to\n",
    "#dat <- data.frame(x=c(-3.5, 3.5))\n",
    "#ggplot(dat, aes(x=x)) +\n",
    "#stat_function(fun=dnorm_limit, geom=\"area\", fill=\"blue\", alpha=0.5) +\n",
    "#stat_function(fun=dnorm) +\n",
    "#labs(x = \"z\", y = \"\") +\n",
    "#geom_hline(yintercept=0) +\n",
    "#scale_x_continuous(breaks = seq(-3, 3, by = 1.0)) +\n",
    "#scale_y_continuous(breaks = seq(0, .4, by = 0.2)) +\n",
    "#annotate(\"text\", x = -1.2, y = -0.01, label = \"hi\") +\n",
    "#annotate(\"text\", x = 2.1, y = -0.01, label = \"bye\")"
   ]
  }
 ],
 "nbformat": 4,
 "nbformat_minor": 5,
 "metadata": {
  "kernelspec": {
   "name": "ir",
   "display_name": "R",
   "language": "R"
  }
 }
}

