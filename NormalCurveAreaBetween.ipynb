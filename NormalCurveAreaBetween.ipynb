{
 "cells": [
  {
   "cell_type": "code",
   "execution_count": null,
   "metadata": {},
   "outputs": [],
   "source": [
    "options(repr.plot.width=4, repr.plot.height=4)"
   ]
  },
  {
   "cell_type": "code",
   "execution_count": null,
   "metadata": {},
   "outputs": [],
   "source": [
    "if(!exists(\"params\")) {\n",
    "    params<-list(a=1.23,b=1.75,mu=0,sigma=1.0)\n",
    "}\n",
    "a<-params$a \n",
    "b<-params$b \n",
    "mu<-params$mu \n",
    "sigma<-params$sigma "
   ]
  },
  {
   "cell_type": "code",
   "execution_count": null,
   "metadata": {},
   "outputs": [],
   "source": [
    "lowerz<-(a-mu)/sigma\n",
    "upperz<-(b-mu)/sigma\n",
    "areaB <- round(pnorm(upperz),4)\n",
    "areaA <- round(pnorm(lowerz),4)\n",
    "areaBetween <- round(areaB-areaA,4)"
   ]
  },
  {
   "cell_type": "markdown",
   "metadata": {},
   "source": [
    "We are going to find the area between the two x-values $x=a=`r a`$ and\n",
    "$x=b=`r b`$ by first converting them both to z-values, then finding the\n",
    "area between those z-values.\n",
    "\n",
    "First lets find the “lower z-value”. This is the z-value for the left\n",
    "endpoint ($x=a=`r a`$):\n",
    "\n",
    "$$\n",
    "z =\\frac{x-\\mu}{\\sigma} =\\frac{`r a`-`r mu`}{`r sigma`} =\\frac{`r a-mu`}{`r sigma`} =`r round(lowerz,2)`\n",
    "$$\n",
    "\n",
    "Next lets find the “upper z-value”. This is the z-value for the right\n",
    "endpoint ($x=b=`r b`$):\n",
    "\n",
    "$$\n",
    "z =\\frac{x-\\mu}{\\sigma} =\\frac{`r b`-`r mu`}{`r sigma`} =\\frac{`r b-mu`}{`r sigma`} =`r round(upperz,2)`\n",
    "$$\n",
    "\n",
    "Now we can find the area between these two z-values by subtracting the\n",
    "left tail area for each one.\n",
    "\n",
    "Using the standard normal table we find the left tail area for\n",
    "$z=`r upperz`$ is $`r areaB`$ and the left tail area for $z=`r lowerz`$\n",
    "is $`r areaA`$.\n",
    "\n",
    "We subtract these two areas to find the area between them:\n",
    "\n",
    "$$\n",
    "\\text{area between}=`r areaB` - `r areaA`=`r areaBetween`\n",
    "$$"
   ]
  }
 ],
 "nbformat": 4,
 "nbformat_minor": 5,
 "metadata": {
  "kernelspec": {
   "name": "ir",
   "display_name": "R",
   "language": "R"
  }
 }
}

