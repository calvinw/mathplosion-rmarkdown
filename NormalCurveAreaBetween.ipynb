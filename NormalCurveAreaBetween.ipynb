{
 "cells": [
  {
   "cell_type": "code",
   "execution_count": null,
   "metadata": {},
   "outputs": [],
   "source": [
    "options(repr.plot.width=4, repr.plot.height=2.5)"
   ]
  },
  {
   "cell_type": "code",
   "execution_count": null,
   "metadata": {},
   "outputs": [],
   "source": [
    "if(!exists(\"params\")) {\n",
    "    params<-list(a=3.3,b=5.5,mu=5,sigma=1.2)\n",
    "}\n",
    "a<-params$a \n",
    "b<-params$b \n",
    "mu<-params$mu \n",
    "sigma<-params$sigma "
   ]
  },
  {
   "cell_type": "code",
   "execution_count": null,
   "metadata": {},
   "outputs": [],
   "source": [
    "lowerz<-round((a-mu)/sigma,2)\n",
    "upperz<-round((b-mu)/sigma,2)\n",
    "areaB <- round(pnorm(upperz),4)\n",
    "areaA <- round(pnorm(lowerz),4)\n",
    "areaBetween <- round(areaB-areaA,4)"
   ]
  },
  {
   "cell_type": "code",
   "execution_count": null,
   "metadata": {},
   "outputs": [],
   "source": [
    "source(\"graphics_utils.R\")"
   ]
  },
  {
   "cell_type": "markdown",
   "metadata": {},
   "source": [
    "We are going to find the area between the two x-values $x=`r a`$ and\n",
    "$x=`r b`$ for a normal distribution with mean of $\\mu = `r mu`$ and with\n",
    "a standard deviation of $\\sigma = `r sigma`$.\n",
    "\n",
    "Here is what the area looks like:"
   ]
  },
  {
   "cell_type": "code",
   "execution_count": null,
   "metadata": {},
   "outputs": [],
   "source": [
    "normal_draw_area_between(a,b,mu,sigma)"
   ]
  },
  {
   "cell_type": "markdown",
   "metadata": {},
   "source": [
    "We will convert both the x-values to z-values, then find the area\n",
    "between those z-values using the standard normal distribution (z\n",
    "distribution).\n",
    "\n",
    "Lets find the “lower z-value” first. This is the z-value for the left\n",
    "endpoint ($x=`r a`$):\n",
    "\n",
    "$$\n",
    "z =\\frac{x-\\mu}{\\sigma} =\\frac{`r a`-`r mu`}{`r sigma`} =\\frac{`r a-mu`}{`r sigma`} =`r round(lowerz,2)`\n",
    "$$\n",
    "\n",
    "Next lets find the “upper z-value”. This is the z-value for the right\n",
    "endpoint ($x=`r b`$):\n",
    "\n",
    "$$\n",
    "z =\\frac{x-\\mu}{\\sigma} =\\frac{`r b`-`r mu`}{`r sigma`} =\\frac{`r b-mu`}{`r sigma`} =`r round(upperz,2)`\n",
    "$$\n",
    "\n",
    "Now the area that we want that is between $z = `r lowerz`$ and\n",
    "$z = `r upperz`$"
   ]
  },
  {
   "cell_type": "code",
   "execution_count": null,
   "metadata": {},
   "outputs": [],
   "source": [
    "z_draw_area_between(lowerz,upperz)"
   ]
  },
  {
   "cell_type": "markdown",
   "metadata": {},
   "source": [
    "We will find the area between these two z-values by subtracting the left\n",
    "tail areas for each one.\n",
    "\n",
    "Using the standard normal table we find the left tail area for\n",
    "$z=`r upperz`$ first:\n",
    "\n",
    "$$\n",
    "\\text{left tail area for `r upperz`} =`r areaB`\n",
    "$$\n",
    "\n",
    "Then we find the left tail area for $z = `r lowerz`$ next:\n",
    "\n",
    "$$\n",
    "\\text{left tail area for `r lowerz`} =`r areaA`\n",
    "$$\n",
    "\n",
    "Finally subtract these two areas to find the area between the two:\n",
    "\n",
    "$$\n",
    "\\text{area between}=`r areaB` - `r areaA`=`r areaBetween`\n",
    "$$"
   ]
  }
 ],
 "nbformat": 4,
 "nbformat_minor": 5,
 "metadata": {
  "kernelspec": {
   "name": "ir",
   "display_name": "R",
   "language": "R"
  }
 }
}

