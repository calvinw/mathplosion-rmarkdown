{
 "cells": [
  {
   "cell_type": "code",
   "execution_count": null,
   "metadata": {},
   "outputs": [],
   "source": [
    "knitr::opts_chunk$set(echo = TRUE)\n",
    "# a<-params$a\n",
    "# b<-params$b\n",
    "a<- -1.0\n",
    "b<- 2.1\n",
    "library(ggplot2)"
   ]
  },
  {
   "cell_type": "markdown",
   "metadata": {},
   "source": [
    "Area under normal curve between two values\n",
    "------------------------------------------\n",
    "\n",
    "Hi\n",
    "\n",
    "We are going to find the area between the two z-values by using the\n",
    "standard normal (z) table:\n",
    "\n",
    "Here $a =`r a`$ and $b =`r b`$\n",
    "\n",
    "Here is a picture of the area that we want:"
   ]
  },
  {
   "cell_type": "code",
   "execution_count": null,
   "metadata": {},
   "outputs": [],
   "source": [
    "#change dev to svg if need to\n",
    "\n",
    "dat <- data.frame(x=c(-3.5, 3.5))\n",
    "labelA <- sprintf(\"a = %s\",a)\n",
    "labelB <- sprintf(\"b = %s\",b)\n",
    "ggplot(dat, aes(x=x)) +\n",
    "    stat_function(fun=dnorm) +   \n",
    "    stat_function(fun=dnorm,     \n",
    "              xlim = c(a,b), \n",
    "              geom=\"area\", \n",
    "              fill=\"green\", \n",
    "              alpha=0.3) +\n",
    "    labs(x = \"Z\", y = \"\") +       \n",
    "    geom_hline(yintercept=0) +\n",
    "    scale_x_continuous(breaks = seq(-3, 3, by = 1.0)) +\n",
    "    scale_y_continuous(breaks = seq(0, .4, by = 0.2)) +\n",
    "    annotate(\"text\", \n",
    "         x = a, \n",
    "         y = -0.01, \n",
    "         label = labelA) +\n",
    "    annotate(\"text\", \n",
    "         x = b, \n",
    "         y = -0.01, \n",
    "         label = labelB)"
   ]
  },
  {
   "cell_type": "markdown",
   "metadata": {},
   "source": [
    "First we find the left tail area for z-value on the right: $b =`r b`$"
   ]
  },
  {
   "cell_type": "code",
   "execution_count": null,
   "metadata": {},
   "outputs": [],
   "source": [
    "areaB <- round(pnorm(b),4)"
   ]
  },
  {
   "cell_type": "markdown",
   "metadata": {},
   "source": [
    "$$\n",
    "\\text{left tail area for b} = `r areaB`\n",
    "$$\n",
    "\n",
    "Then we find the left tail area for the z-value on the left $a =`r a`$:"
   ]
  },
  {
   "cell_type": "code",
   "execution_count": null,
   "metadata": {},
   "outputs": [],
   "source": [
    "areaA <- round(pnorm(a),4)"
   ]
  },
  {
   "cell_type": "markdown",
   "metadata": {},
   "source": [
    "$$\n",
    "\\text{left tail area for a} = `r areaA`\n",
    "$$\n",
    "\n",
    "Finally we find the area between the two z-values by subtracting the\n",
    "left tail area up to b by the left tail area up to a. This leaves us\n",
    "with the area between the two z-values:\n",
    "\n",
    "$$\n",
    "\\text{area between}=`r areaB` - `r areaA`=`r round(areaB-areaA, 4)`\n",
    "$$"
   ]
  }
 ],
 "nbformat": 4,
 "nbformat_minor": 5,
 "metadata": {}
}

