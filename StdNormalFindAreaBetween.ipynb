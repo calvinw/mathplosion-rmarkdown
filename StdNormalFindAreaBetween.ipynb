{
 "cells": [
  {
   "cell_type": "code",
   "execution_count": null,
   "metadata": {},
   "outputs": [],
   "source": [
    "knitr::opts_chunk$set(include=FALSE)\n",
    "knitr::opts_chunk$set(fig.align='center', fig.width=4, fig.height=3)\n",
    "library(ggplot2)"
   ]
  },
  {
   "cell_type": "code",
   "execution_count": null,
   "metadata": {},
   "outputs": [],
   "source": [
    "# This is here for jupyter versions\n",
    "if(!exists(\"params\")) {\n",
    "    params<-list(a=-1.0,b=2.1)\n",
    "}\n",
    "a<-params$a\n",
    "b<-params$b"
   ]
  },
  {
   "cell_type": "code",
   "execution_count": null,
   "metadata": {},
   "outputs": [],
   "source": [
    "areaB <- round(pnorm(b),4)\n",
    "areaA <- round(pnorm(a),4)\n",
    "areaBetween <- round(areaB-areaA, 4)"
   ]
  },
  {
   "cell_type": "markdown",
   "metadata": {},
   "source": [
    "We are going to find the area between the two z-values by using the\n",
    "standard normal (z) table.\n",
    "\n",
    "Here $a =`r a`$ and $b =`r b`$\n",
    "\n",
    "Here is a picture of the area that we want:"
   ]
  },
  {
   "cell_type": "code",
   "execution_count": null,
   "metadata": {},
   "outputs": [],
   "source": [
    "#change dev to svg if need to\n",
    "\n",
    "dat <- data.frame(x=c(-3.5, 3.5))\n",
    "labelA <- sprintf(\"a = %s\",a)\n",
    "labelB <- sprintf(\"b = %s\",b)\n",
    "ggplot(dat, aes(x=x)) +\n",
    "    stat_function(fun=dnorm) +   \n",
    "    stat_function(fun=dnorm,     \n",
    "              xlim = c(a,b), \n",
    "              geom=\"area\", \n",
    "              fill=\"green\", \n",
    "              alpha=0.3) +\n",
    "    labs(x = \"Z\", y = \"\") +       \n",
    "    geom_hline(yintercept=0) +\n",
    "    scale_x_continuous(breaks = seq(-3, 3, by = 1.0)) +\n",
    "    scale_y_continuous(breaks = seq(0, .4, by = 0.2)) +\n",
    "    annotate(\"text\", \n",
    "         x = a, \n",
    "         y = -0.02, \n",
    "         label = labelA) +\n",
    "    annotate(\"text\", \n",
    "         x = b, \n",
    "         y = -0.02, \n",
    "         label = labelB)"
   ]
  },
  {
   "cell_type": "markdown",
   "metadata": {},
   "source": [
    "First we find the left tail area for z-value on the right: $b =`r b`$\n",
    "\n",
    "$$\n",
    "\\text{left tail area for b} = `r areaB`\n",
    "$$\n",
    "\n",
    "Then we find the left tail area for the z-value on the left $a =`r a`$:\n",
    "\n",
    "$$\n",
    "\\text{left tail area for a} = `r areaA`\n",
    "$$\n",
    "\n",
    "Finally we find the area between the two z-values by subtracting the\n",
    "left tail area up to b by the left tail area up to a. This leaves us\n",
    "with the area between the two z-values:\n",
    "\n",
    "$$\n",
    "\\text{area between}=`r areaB` - `r areaA`=`r areaBetween`\n",
    "$$"
   ]
  }
 ],
 "nbformat": 4,
 "nbformat_minor": 5,
 "metadata": {
  "kernelspec": {
   "name": "ir",
   "display_name": "R",
   "language": "R"
  }
 }
}

